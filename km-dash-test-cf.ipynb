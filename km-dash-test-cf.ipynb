{
 "cells": [
  {
   "cell_type": "code",
   "execution_count": 4,
   "metadata": {},
   "outputs": [],
   "source": [
    "import plotly.express as px\n",
    "# from jupyter_dash import JupyterDash\n",
    "# import dash_core_components as dcc\n",
    "# import dash_html_components as html\n",
    "# from dash.dependencies import Input, Output\n"
   ]
  },
  {
   "cell_type": "code",
   "execution_count": 1,
   "metadata": {},
   "outputs": [],
   "source": [
    "import pandas as pd\n",
    "from lifelines import KaplanMeierFitter"
   ]
  },
  {
   "cell_type": "code",
   "execution_count": 18,
   "metadata": {},
   "outputs": [
    {
     "name": "stdout",
     "output_type": "stream",
     "text": [
      "(350, 6)\n"
     ]
    },
    {
     "data": {
      "text/html": [
       "<div>\n",
       "<style scoped>\n",
       "    .dataframe tbody tr th:only-of-type {\n",
       "        vertical-align: middle;\n",
       "    }\n",
       "\n",
       "    .dataframe tbody tr th {\n",
       "        vertical-align: top;\n",
       "    }\n",
       "\n",
       "    .dataframe thead th {\n",
       "        text-align: right;\n",
       "    }\n",
       "</style>\n",
       "<table border=\"1\" class=\"dataframe\">\n",
       "  <thead>\n",
       "    <tr style=\"text-align: right;\">\n",
       "      <th></th>\n",
       "      <th>Case ID</th>\n",
       "      <th>Study ID</th>\n",
       "      <th>Number at Risk</th>\n",
       "      <th>Status</th>\n",
       "      <th>Survival Rate</th>\n",
       "      <th>Time (months)</th>\n",
       "    </tr>\n",
       "  </thead>\n",
       "  <tbody>\n",
       "    <tr>\n",
       "      <th>0</th>\n",
       "      <td>TCGA-GF-A6C8</td>\n",
       "      <td>skcm_tcga_pan_can_atlas_2018</td>\n",
       "      <td>145</td>\n",
       "      <td>censored</td>\n",
       "      <td>1</td>\n",
       "      <td>2.0383338265</td>\n",
       "    </tr>\n",
       "    <tr>\n",
       "      <th>1</th>\n",
       "      <td>TCGA-ER-A19J</td>\n",
       "      <td>skcm_tcga_pan_can_atlas_2018</td>\n",
       "      <td>144</td>\n",
       "      <td>deceased</td>\n",
       "      <td>0.9930555555555556</td>\n",
       "      <td>6.4437649998</td>\n",
       "    </tr>\n",
       "    <tr>\n",
       "      <th>2</th>\n",
       "      <td>TCGA-D9-A1JX</td>\n",
       "      <td>skcm_tcga_pan_can_atlas_2018</td>\n",
       "      <td>143</td>\n",
       "      <td>deceased</td>\n",
       "      <td>0.9861111111111112</td>\n",
       "      <td>7.1012920406</td>\n",
       "    </tr>\n",
       "    <tr>\n",
       "      <th>3</th>\n",
       "      <td>TCGA-QB-A6FS</td>\n",
       "      <td>skcm_tcga_pan_can_atlas_2018</td>\n",
       "      <td>142</td>\n",
       "      <td>censored</td>\n",
       "      <td>0.9861111111111112</td>\n",
       "      <td>7.2327974487999995</td>\n",
       "    </tr>\n",
       "    <tr>\n",
       "      <th>4</th>\n",
       "      <td>TCGA-FS-A1Z7</td>\n",
       "      <td>skcm_tcga_pan_can_atlas_2018</td>\n",
       "      <td>141</td>\n",
       "      <td>deceased</td>\n",
       "      <td>0.9791174152876281</td>\n",
       "      <td>7.7916954335</td>\n",
       "    </tr>\n",
       "  </tbody>\n",
       "</table>\n",
       "</div>"
      ],
      "text/plain": [
       "        Case ID                      Study ID Number at Risk    Status  \\\n",
       "0  TCGA-GF-A6C8  skcm_tcga_pan_can_atlas_2018            145  censored   \n",
       "1  TCGA-ER-A19J  skcm_tcga_pan_can_atlas_2018            144  deceased   \n",
       "2  TCGA-D9-A1JX  skcm_tcga_pan_can_atlas_2018            143  deceased   \n",
       "3  TCGA-QB-A6FS  skcm_tcga_pan_can_atlas_2018            142  censored   \n",
       "4  TCGA-FS-A1Z7  skcm_tcga_pan_can_atlas_2018            141  deceased   \n",
       "\n",
       "        Survival Rate       Time (months)  \n",
       "0                   1        2.0383338265  \n",
       "1  0.9930555555555556        6.4437649998  \n",
       "2  0.9861111111111112        7.1012920406  \n",
       "3  0.9861111111111112  7.2327974487999995  \n",
       "4  0.9791174152876281        7.7916954335  "
      ]
     },
     "execution_count": 18,
     "metadata": {},
     "output_type": "execute_result"
    }
   ],
   "source": [
    "# Load (downloaded) survival data \n",
    "fname = 'Overall_ .txt'\n",
    "df_surv = pd.read_csv(fname, header=2, sep='\\t')\n",
    "\n",
    "print(df_surv.shape)\n",
    "df_surv.head()\n",
    "\n"
   ]
  },
  {
   "cell_type": "code",
   "execution_count": 47,
   "metadata": {},
   "outputs": [
    {
     "name": "stdout",
     "output_type": "stream",
     "text": [
      "             Case ID Study ID Number at Risk Status Survival Rate  \\\n",
      "145  Unaltered group      NaN            NaN    NaN           NaN   \n",
      "\n",
      "    Time (months)  \n",
      "145           NaN  \n"
     ]
    }
   ],
   "source": [
    "# Clean data\n",
    "\n",
    "## Replace status values\n",
    "df_surv = df_surv.replace({'Status': {'censored': 0, 'deceased': 1}})\n",
    "\n",
    "## Remove rows with null or string values\n",
    "# df_surv['Time (months)'].astype(float)\n",
    "print(df_surv[df_surv['Time (months)'].isnull()])\n",
    "\n",
    "df_surv_clean = df_surv[df_surv['Status'].notnull() & (df_surv['Status'] != 'Status')].copy()\n",
    "\n",
    "df_surv_clean['Time (months)'] = df_surv_clean['Time (months)'].astype(float)\n",
    "df_surv_clean['Status'] = df_surv_clean['Status'].astype(int)"
   ]
  },
  {
   "cell_type": "code",
   "execution_count": 48,
   "metadata": {},
   "outputs": [],
   "source": [
    "## Compute durations and events\n",
    "durations = list(df_surv_clean['Time (months)'])\n",
    "event_observed = list(df_surv_clean['Status'])\n",
    "\n",
    "event_observed;\n",
    "# durations.isnull().any()"
   ]
  },
  {
   "cell_type": "code",
   "execution_count": 49,
   "metadata": {},
   "outputs": [
    {
     "data": {
      "text/plain": [
       "<matplotlib.axes._subplots.AxesSubplot at 0x11ab192d0>"
      ]
     },
     "execution_count": 49,
     "metadata": {},
     "output_type": "execute_result"
    },
    {
     "data": {
      "image/png": "[encoded data removed]",
      "text/plain": [
       "<Figure size 432x288 with 1 Axes>"
      ]
     },
     "metadata": {
      "needs_background": "light"
     },
     "output_type": "display_data"
    }
   ],
   "source": [
    "## create a kmf object\n",
    "kmf = KaplanMeierFitter() \n",
    "\n",
    "## Fit the data into the model\n",
    "kmf.fit(durations, event_observed, label='Kaplan Meier Estimate')\n",
    "\n",
    "## Create an estimate\n",
    "kmf.plot(ci_show=False) ## ci_show is meant for Confidence interval, since our data set is too tiny, thus i am not showing it."
   ]
  },
  {
   "cell_type": "code",
   "execution_count": null,
   "metadata": {},
   "outputs": [],
   "source": [
    "# Load Data\n",
    "df = px.data.tips()\n",
    "# Build App\n",
    "app = JupyterDash(__name__)\n",
    "app.layout = html.Div([\n",
    "    html.H1(\"JupyterDash Demo\"),\n",
    "    dcc.Graph(id='graph'),\n",
    "    html.Label([\n",
    "        \"colorscale\",\n",
    "        dcc.Dropdown(\n",
    "            id='colorscale-dropdown', clearable=False,\n",
    "            value='plasma', options=[\n",
    "                {'label': c, 'value': c}\n",
    "                for c in px.colors.named_colorscales()\n",
    "            ])\n",
    "    ]),\n",
    "])\n",
    "\n",
    "# Define callback to update graph\n",
    "@app.callback(\n",
    "    Output('graph', 'figure'),\n",
    "    [Input(\"colorscale-dropdown\", \"value\")]\n",
    ")\n",
    "def update_figure(colorscale):\n",
    "    return px.scatter(\n",
    "        df, x=\"total_bill\", y=\"tip\", color=\"size\",\n",
    "        color_continuous_scale=colorscale,\n",
    "        render_mode=\"webgl\", title=\"Tips\"\n",
    "    )\n",
    "# Run app and display result inline in the notebook\n",
    "app.run_server(mode='inline')"
   ]
  }
 ],
 "metadata": {
  "kernelspec": {
   "display_name": "Python 3",
   "language": "python",
   "name": "python3"
  },
  "language_info": {
   "codemirror_mode": {
    "name": "ipython",
    "version": 3
   },
   "file_extension": ".py",
   "mimetype": "text/x-python",
   "name": "python",
   "nbconvert_exporter": "python",
   "pygments_lexer": "ipython3",
   "version": "3.7.7"
  }
 },
 "nbformat": 4,
 "nbformat_minor": 4
}
